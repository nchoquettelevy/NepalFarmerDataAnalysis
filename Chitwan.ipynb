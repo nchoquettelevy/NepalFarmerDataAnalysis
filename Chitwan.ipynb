{
 "cells": [
  {
   "cell_type": "code",
   "execution_count": 283,
   "metadata": {
    "collapsed": true
   },
   "outputs": [],
   "source": [
    "import pandas as pd\n",
    "import re\n",
    "import math\n",
    "import numpy as np\n",
    "import matplotlib.pyplot as plt\n",
    "import statsmodels.api as sm\n",
    "from sklearn import linear_model"
   ]
  },
  {
   "cell_type": "markdown",
   "metadata": {},
   "source": [
    "## Aspiration Threshold Calculation"
   ]
  },
  {
   "cell_type": "code",
   "execution_count": 2,
   "metadata": {},
   "outputs": [
    {
     "name": "stderr",
     "output_type": "stream",
     "text": [
      "c:\\users\\kyan3\\appdata\\local\\programs\\python\\python39\\lib\\site-packages\\IPython\\core\\interactiveshell.py:3146: DtypeWarning: Columns (18,19,20,21,22,23,48,49,50,51,52,53,58,59,60,61,62,63,68,69,70,71,72,73,78,79,80,81,82,83,88,89,90,91,92,93,98,99,100,101,102,103,108,109,110,111,112,113,118,119,120,121,122,123,128,129,130,131,132,133,168,169,170,171,172,173,208,209,210,211,212,213,248,249,250,251,252,253,288,289,290,291,292,293,328,329,330,331,332,333,358,359,360,361,362,363,388,389,390,391,392,393,418,419,420,421,422,423,448,449,450,451,452,453,478,479,480,481,482,483,508,509,510,511,512,513,538,539,540,541,542,543,578,579,580,581,582,583,588,589,590,591,592,593,598,599,600,601,602,603,608,609,610,611,612,613,618,619,620,621,622,623,628,629,630,631,632,633,638,639,640,641,642,643,648,649,650,651,652,653,654,655,656,668,669,670,671,672,673,678,679,680,681,682,683,688,689,690,691,692,693,698,699,700,701,702,703,708,709,710,711,712,713,738,739,740,741,742,743,786) have mixed types.Specify dtype option on import or set low_memory=False.\n",
      "  has_raised = await self.run_ast_nodes(code_ast.body, cell_name,\n"
     ]
    },
    {
     "data": {
      "text/plain": [
       "102.71197727272727"
      ]
     },
     "execution_count": 2,
     "metadata": {},
     "output_type": "execute_result"
    }
   ],
   "source": [
    "raw_cvfs = pd.read_table('CVFS_Data_001.tsv')\n",
    "raw_cvfs.replace(' ',0, inplace=True)\n",
    "clean_cvfs = pd.DataFrame()\n",
    "clean_cvfs['HHID'] = raw_cvfs['HHID']\n",
    "\n",
    "# removing end years 63 and 72 due to inconsistency\n",
    "p = re.compile('B1[1-3][bc]_(6[4-9]|7[0-1])', re.IGNORECASE)\n",
    "\n",
    "for item in raw_cvfs.columns:    \n",
    "    match = p.match(item)\n",
    "    if bool(match):\n",
    "        clean_cvfs[item] = raw_cvfs[item].astype(float)\n",
    "\n",
    "pivot_cvfs = pd.wide_to_long(clean_cvfs, ['B11B','B11C','B12B','B12C','B13B','B13C'], i='HHID', j='Year', sep='_')\n",
    "\n",
    "rupees_produced = pd.DataFrame()\n",
    "rupees_produced['Rice'] = (pivot_cvfs['B11B']-pivot_cvfs['B11C'])*24 #24 rupees/kg rice\n",
    "rupees_produced['Maize'] = (pivot_cvfs['B12B']-pivot_cvfs['B12C'])*23 #23 rupees/kg maize\n",
    "rupees_produced['Wheat'] = (pivot_cvfs['B13B']-pivot_cvfs['B13C'])*21 #21 rupees/kg wheat\n",
    "\n",
    "total_rupees = rupees_produced.mean(axis=0).sum()\n",
    "\n",
    "(total_rupees*0.01)/2 #Nepalese rupee to USD conversion rate ~0.01"
   ]
  },
  {
   "cell_type": "markdown",
   "metadata": {},
   "source": [
    "## Correlation of Crop Area Planted with Previous Yields"
   ]
  },
  {
   "cell_type": "code",
   "execution_count": 27,
   "metadata": {},
   "outputs": [
    {
     "name": "stderr",
     "output_type": "stream",
     "text": [
      "c:\\users\\kyan3\\appdata\\local\\programs\\python\\python39\\lib\\site-packages\\IPython\\core\\interactiveshell.py:3146: DtypeWarning: Columns (18,19,20,21,22,23,48,49,50,51,52,53,58,59,60,61,62,63,68,69,70,71,72,73,78,79,80,81,82,83,88,89,90,91,92,93,98,99,100,101,102,103,108,109,110,111,112,113,118,119,120,121,122,123,128,129,130,131,132,133,168,169,170,171,172,173,208,209,210,211,212,213,248,249,250,251,252,253,288,289,290,291,292,293,328,329,330,331,332,333,358,359,360,361,362,363,388,389,390,391,392,393,418,419,420,421,422,423,448,449,450,451,452,453,478,479,480,481,482,483,508,509,510,511,512,513,538,539,540,541,542,543,578,579,580,581,582,583,588,589,590,591,592,593,598,599,600,601,602,603,608,609,610,611,612,613,618,619,620,621,622,623,628,629,630,631,632,633,638,639,640,641,642,643,648,649,650,651,652,653,654,655,656,668,669,670,671,672,673,678,679,680,681,682,683,688,689,690,691,692,693,698,699,700,701,702,703,708,709,710,711,712,713,738,739,740,741,742,743,786) have mixed types.Specify dtype option on import or set low_memory=False.\n",
      "  has_raised = await self.run_ast_nodes(code_ast.body, cell_name,\n"
     ]
    }
   ],
   "source": [
    "raw_cvfs = pd.read_table('CVFS_Data_001.tsv')\n",
    "raw_cvfs.replace(' ',0, inplace=True)"
   ]
  },
  {
   "cell_type": "code",
   "execution_count": 90,
   "metadata": {
    "collapsed": true
   },
   "outputs": [],
   "source": [
    "clean_cvfs = raw_cvfs.filter(regex='HHID|B1[1-3][AB]_(6[3-9]|7[0-2])',axis=1)"
   ]
  },
  {
   "cell_type": "code",
   "execution_count": 307,
   "metadata": {},
   "outputs": [
    {
     "data": {
      "text/plain": [
       "0        500.0\n",
       "1        100.0\n",
       "2        300.0\n",
       "3          0.0\n",
       "4        250.0\n",
       "         ...  \n",
       "2250      95.0\n",
       "2251       0.0\n",
       "2252    1000.0\n",
       "2253       0.0\n",
       "2254     350.0\n",
       "Length: 2255, dtype: float64"
      ]
     },
     "execution_count": 307,
     "metadata": {},
     "output_type": "execute_result"
    }
   ],
   "source": [
    "clean_cvfs.filter(regex='B1[1-3]B_'+str(year),axis=1).astype(float).sum(axis=1)"
   ]
  },
  {
   "cell_type": "code",
   "execution_count": 348,
   "metadata": {
    "collapsed": true
   },
   "outputs": [],
   "source": [
    "area_cvfs = pd.DataFrame()\n",
    "production_cvfs = pd.DataFrame()\n",
    "\n",
    "area_cvfs['HHID'] = clean_cvfs['HHID']\n",
    "production_cvfs['HHID'] = clean_cvfs['HHID']\n",
    "for year in range(64,73):\n",
    "    area_cvfs[year] = clean_cvfs.filter(regex='B1[1-3]A_'+str(year),axis=1).astype(float).sum(axis=1)\n",
    "    production_cvfs[year] = clean_cvfs.filter(regex='B1[1-3]B_'+str(year),axis=1).astype(float).sum(axis=1)"
   ]
  },
  {
   "cell_type": "code",
   "execution_count": 349,
   "metadata": {
    "collapsed": true
   },
   "outputs": [],
   "source": [
    "area_long_cvfs = pd.melt(area_cvfs, id_vars=['HHID'],var_name='Year',value_name='Area')\n",
    "production_long_cvfs = pd.melt(production_cvfs, id_vars=['HHID'],var_name='Year',value_name='Production')"
   ]
  },
  {
   "cell_type": "code",
   "execution_count": 350,
   "metadata": {
    "collapsed": true
   },
   "outputs": [],
   "source": [
    "lag1_cvfs = pd.DataFrame()\n",
    "lag1_cvfs['Area'] = area_long_cvfs[area_long_cvfs['Year']>64]['Area'].array\n",
    "lag1_cvfs['Production_Lag_1'] = production_long_cvfs[production_long_cvfs['Year']<72]['Production'].array\n",
    "\n",
    "lag2_cvfs = pd.DataFrame()\n",
    "lag2_cvfs['Area'] = area_long_cvfs[area_long_cvfs['Year']>65]['Area'].array\n",
    "lag2_cvfs['Production_Lag_1'] = production_long_cvfs[production_long_cvfs['Year'].between(65,71,inclusive=True)]['Production'].array\n",
    "lag2_cvfs['Production_Lag_2'] = production_long_cvfs[production_long_cvfs['Year'].between(64,70,inclusive=True)]['Production'].array\n",
    "\n",
    "lag3_cvfs = pd.DataFrame()\n",
    "lag3_cvfs['Area'] = area_long_cvfs[area_long_cvfs['Year']>66]['Area'].array\n",
    "lag3_cvfs['Production_Lag_1'] = production_long_cvfs[production_long_cvfs['Year'].between(66,71,inclusive=True)]['Production'].array\n",
    "lag3_cvfs['Production_Lag_2'] = production_long_cvfs[production_long_cvfs['Year'].between(65,70,inclusive=True)]['Production'].array\n",
    "lag3_cvfs['Production_Lag_3'] = production_long_cvfs[production_long_cvfs['Year'].between(64,69,inclusive=True)]['Production'].array\n",
    "\n",
    "lag4_cvfs = pd.DataFrame()\n",
    "lag4_cvfs['Area'] = area_long_cvfs[area_long_cvfs['Year']>67]['Area'].array\n",
    "lag4_cvfs['Production_Lag_1'] = production_long_cvfs[production_long_cvfs['Year'].between(67,71,inclusive=True)]['Production'].array\n",
    "lag4_cvfs['Production_Lag_2'] = production_long_cvfs[production_long_cvfs['Year'].between(66,70,inclusive=True)]['Production'].array\n",
    "lag4_cvfs['Production_Lag_3'] = production_long_cvfs[production_long_cvfs['Year'].between(65,69,inclusive=True)]['Production'].array\n",
    "lag4_cvfs['Production_Lag_4'] = production_long_cvfs[production_long_cvfs['Year'].between(64,68,inclusive=True)]['Production'].array\n",
    "\n",
    "lag5_cvfs = pd.DataFrame()\n",
    "lag5_cvfs['Area'] = area_long_cvfs[area_long_cvfs['Year']>68]['Area'].array\n",
    "lag5_cvfs['Production_Lag_1'] = production_long_cvfs[production_long_cvfs['Year'].between(68,71,inclusive=True)]['Production'].array\n",
    "lag5_cvfs['Production_Lag_2'] = production_long_cvfs[production_long_cvfs['Year'].between(67,70,inclusive=True)]['Production'].array\n",
    "lag5_cvfs['Production_Lag_3'] = production_long_cvfs[production_long_cvfs['Year'].between(66,69,inclusive=True)]['Production'].array\n",
    "lag5_cvfs['Production_Lag_4'] = production_long_cvfs[production_long_cvfs['Year'].between(65,68,inclusive=True)]['Production'].array\n",
    "lag5_cvfs['Production_Lag_5'] = production_long_cvfs[production_long_cvfs['Year'].between(64,67,inclusive=True)]['Production'].array"
   ]
  },
  {
   "cell_type": "code",
   "execution_count": 351,
   "metadata": {},
   "outputs": [
    {
     "data": {
      "text/html": [
       "<table class=\"simpletable\">\n",
       "<caption>OLS Regression Results</caption>\n",
       "<tr>\n",
       "  <th>Dep. Variable:</th>            <td>y</td>        <th>  R-squared (uncentered):</th>      <td>   0.779</td> \n",
       "</tr>\n",
       "<tr>\n",
       "  <th>Model:</th>                   <td>OLS</td>       <th>  Adj. R-squared (uncentered):</th> <td>   0.779</td> \n",
       "</tr>\n",
       "<tr>\n",
       "  <th>Method:</th>             <td>Least Squares</td>  <th>  F-statistic:       </th>          <td>6.354e+04</td>\n",
       "</tr>\n",
       "<tr>\n",
       "  <th>Date:</th>             <td>Tue, 20 Jul 2021</td> <th>  Prob (F-statistic):</th>           <td>  0.00</td>  \n",
       "</tr>\n",
       "<tr>\n",
       "  <th>Time:</th>                 <td>17:17:34</td>     <th>  Log-Likelihood:    </th>          <td> -69795.</td> \n",
       "</tr>\n",
       "<tr>\n",
       "  <th>No. Observations:</th>      <td> 18040</td>      <th>  AIC:               </th>          <td>1.396e+05</td>\n",
       "</tr>\n",
       "<tr>\n",
       "  <th>Df Residuals:</th>          <td> 18039</td>      <th>  BIC:               </th>          <td>1.396e+05</td>\n",
       "</tr>\n",
       "<tr>\n",
       "  <th>Df Model:</th>              <td>     1</td>      <th>                     </th>              <td> </td>    \n",
       "</tr>\n",
       "<tr>\n",
       "  <th>Covariance Type:</th>      <td>nonrobust</td>    <th>                     </th>              <td> </td>    \n",
       "</tr>\n",
       "</table>\n",
       "<table class=\"simpletable\">\n",
       "<tr>\n",
       "   <td></td>     <th>coef</th>     <th>std err</th>      <th>t</th>      <th>P>|t|</th>  <th>[0.025</th>    <th>0.975]</th>  \n",
       "</tr>\n",
       "<tr>\n",
       "  <th>x1</th> <td>    0.0103</td> <td> 4.08e-05</td> <td>  252.065</td> <td> 0.000</td> <td>    0.010</td> <td>    0.010</td>\n",
       "</tr>\n",
       "</table>\n",
       "<table class=\"simpletable\">\n",
       "<tr>\n",
       "  <th>Omnibus:</th>       <td>6860.124</td> <th>  Durbin-Watson:     </th>  <td>   1.709</td> \n",
       "</tr>\n",
       "<tr>\n",
       "  <th>Prob(Omnibus):</th>  <td> 0.000</td>  <th>  Jarque-Bera (JB):  </th> <td>426059.264</td>\n",
       "</tr>\n",
       "<tr>\n",
       "  <th>Skew:</th>           <td> 1.007</td>  <th>  Prob(JB):          </th>  <td>    0.00</td> \n",
       "</tr>\n",
       "<tr>\n",
       "  <th>Kurtosis:</th>       <td>26.723</td>  <th>  Cond. No.          </th>  <td>    1.00</td> \n",
       "</tr>\n",
       "</table><br/><br/>Notes:<br/>[1] R² is computed without centering (uncentered) since the model does not contain a constant.<br/>[2] Standard Errors assume that the covariance matrix of the errors is correctly specified."
      ],
      "text/plain": [
       "<class 'statsmodels.iolib.summary.Summary'>\n",
       "\"\"\"\n",
       "                                 OLS Regression Results                                \n",
       "=======================================================================================\n",
       "Dep. Variable:                      y   R-squared (uncentered):                   0.779\n",
       "Model:                            OLS   Adj. R-squared (uncentered):              0.779\n",
       "Method:                 Least Squares   F-statistic:                          6.354e+04\n",
       "Date:                Tue, 20 Jul 2021   Prob (F-statistic):                        0.00\n",
       "Time:                        17:17:34   Log-Likelihood:                         -69795.\n",
       "No. Observations:               18040   AIC:                                  1.396e+05\n",
       "Df Residuals:                   18039   BIC:                                  1.396e+05\n",
       "Df Model:                           1                                                  \n",
       "Covariance Type:            nonrobust                                                  \n",
       "==============================================================================\n",
       "                 coef    std err          t      P>|t|      [0.025      0.975]\n",
       "------------------------------------------------------------------------------\n",
       "x1             0.0103   4.08e-05    252.065      0.000       0.010       0.010\n",
       "==============================================================================\n",
       "Omnibus:                     6860.124   Durbin-Watson:                   1.709\n",
       "Prob(Omnibus):                  0.000   Jarque-Bera (JB):           426059.264\n",
       "Skew:                           1.007   Prob(JB):                         0.00\n",
       "Kurtosis:                      26.723   Cond. No.                         1.00\n",
       "==============================================================================\n",
       "\n",
       "Notes:\n",
       "[1] R² is computed without centering (uncentered) since the model does not contain a constant.\n",
       "[2] Standard Errors assume that the covariance matrix of the errors is correctly specified.\n",
       "\"\"\""
      ]
     },
     "execution_count": 351,
     "metadata": {},
     "output_type": "execute_result"
    }
   ],
   "source": [
    "X_1 = lag1_cvfs.iloc[:,-1].values.reshape(-1,1)\n",
    "Y_1 = lag1_cvfs.iloc[:,-2].values.reshape(-1,1)\n",
    "\n",
    "reg_1 = sm.OLS(Y_1, X_1).fit()\n",
    "reg_1.summary()"
   ]
  },
  {
   "cell_type": "code",
   "execution_count": 352,
   "metadata": {},
   "outputs": [
    {
     "data": {
      "text/plain": [
       "<matplotlib.collections.PathCollection at 0x29118f6dbb0>"
      ]
     },
     "execution_count": 352,
     "metadata": {},
     "output_type": "execute_result"
    },
    {
     "data": {
      "image/png": "[encoded data removed]",
      "text/plain": [
       "<Figure size 432x288 with 1 Axes>"
      ]
     },
     "metadata": {
      "needs_background": "light"
     },
     "output_type": "display_data"
    }
   ],
   "source": [
    "predict_1 = reg_1.predict(X_1)\n",
    "plt.scatter(Y_1,predict_1)"
   ]
  },
  {
   "cell_type": "code",
   "execution_count": 353,
   "metadata": {},
   "outputs": [
    {
     "data": {
      "text/html": [
       "<table class=\"simpletable\">\n",
       "<caption>OLS Regression Results</caption>\n",
       "<tr>\n",
       "  <th>Dep. Variable:</th>            <td>y</td>        <th>  R-squared (uncentered):</th>      <td>   0.781</td> \n",
       "</tr>\n",
       "<tr>\n",
       "  <th>Model:</th>                   <td>OLS</td>       <th>  Adj. R-squared (uncentered):</th> <td>   0.781</td> \n",
       "</tr>\n",
       "<tr>\n",
       "  <th>Method:</th>             <td>Least Squares</td>  <th>  F-statistic:       </th>          <td>2.812e+04</td>\n",
       "</tr>\n",
       "<tr>\n",
       "  <th>Date:</th>             <td>Tue, 20 Jul 2021</td> <th>  Prob (F-statistic):</th>           <td>  0.00</td>  \n",
       "</tr>\n",
       "<tr>\n",
       "  <th>Time:</th>                 <td>17:18:06</td>     <th>  Log-Likelihood:    </th>          <td> -60782.</td> \n",
       "</tr>\n",
       "<tr>\n",
       "  <th>No. Observations:</th>      <td> 15785</td>      <th>  AIC:               </th>          <td>1.216e+05</td>\n",
       "</tr>\n",
       "<tr>\n",
       "  <th>Df Residuals:</th>          <td> 15783</td>      <th>  BIC:               </th>          <td>1.216e+05</td>\n",
       "</tr>\n",
       "<tr>\n",
       "  <th>Df Model:</th>              <td>     2</td>      <th>                     </th>              <td> </td>    \n",
       "</tr>\n",
       "<tr>\n",
       "  <th>Covariance Type:</th>      <td>nonrobust</td>    <th>                     </th>              <td> </td>    \n",
       "</tr>\n",
       "</table>\n",
       "<table class=\"simpletable\">\n",
       "<tr>\n",
       "   <td></td>     <th>coef</th>     <th>std err</th>      <th>t</th>      <th>P>|t|</th>  <th>[0.025</th>    <th>0.975]</th>  \n",
       "</tr>\n",
       "<tr>\n",
       "  <th>x1</th> <td>    0.0089</td> <td>    0.000</td> <td>   57.390</td> <td> 0.000</td> <td>    0.009</td> <td>    0.009</td>\n",
       "</tr>\n",
       "<tr>\n",
       "  <th>x2</th> <td>    0.0013</td> <td>    0.000</td> <td>    8.497</td> <td> 0.000</td> <td>    0.001</td> <td>    0.002</td>\n",
       "</tr>\n",
       "</table>\n",
       "<table class=\"simpletable\">\n",
       "<tr>\n",
       "  <th>Omnibus:</th>       <td>4619.543</td> <th>  Durbin-Watson:     </th>  <td>   1.707</td> \n",
       "</tr>\n",
       "<tr>\n",
       "  <th>Prob(Omnibus):</th>  <td> 0.000</td>  <th>  Jarque-Bera (JB):  </th> <td>147124.801</td>\n",
       "</tr>\n",
       "<tr>\n",
       "  <th>Skew:</th>           <td> 0.771</td>  <th>  Prob(JB):          </th>  <td>    0.00</td> \n",
       "</tr>\n",
       "<tr>\n",
       "  <th>Kurtosis:</th>       <td>17.877</td>  <th>  Cond. No.          </th>  <td>    7.09</td> \n",
       "</tr>\n",
       "</table><br/><br/>Notes:<br/>[1] R² is computed without centering (uncentered) since the model does not contain a constant.<br/>[2] Standard Errors assume that the covariance matrix of the errors is correctly specified."
      ],
      "text/plain": [
       "<class 'statsmodels.iolib.summary.Summary'>\n",
       "\"\"\"\n",
       "                                 OLS Regression Results                                \n",
       "=======================================================================================\n",
       "Dep. Variable:                      y   R-squared (uncentered):                   0.781\n",
       "Model:                            OLS   Adj. R-squared (uncentered):              0.781\n",
       "Method:                 Least Squares   F-statistic:                          2.812e+04\n",
       "Date:                Tue, 20 Jul 2021   Prob (F-statistic):                        0.00\n",
       "Time:                        17:18:06   Log-Likelihood:                         -60782.\n",
       "No. Observations:               15785   AIC:                                  1.216e+05\n",
       "Df Residuals:                   15783   BIC:                                  1.216e+05\n",
       "Df Model:                           2                                                  \n",
       "Covariance Type:            nonrobust                                                  \n",
       "==============================================================================\n",
       "                 coef    std err          t      P>|t|      [0.025      0.975]\n",
       "------------------------------------------------------------------------------\n",
       "x1             0.0089      0.000     57.390      0.000       0.009       0.009\n",
       "x2             0.0013      0.000      8.497      0.000       0.001       0.002\n",
       "==============================================================================\n",
       "Omnibus:                     4619.543   Durbin-Watson:                   1.707\n",
       "Prob(Omnibus):                  0.000   Jarque-Bera (JB):           147124.801\n",
       "Skew:                           0.771   Prob(JB):                         0.00\n",
       "Kurtosis:                      17.877   Cond. No.                         7.09\n",
       "==============================================================================\n",
       "\n",
       "Notes:\n",
       "[1] R² is computed without centering (uncentered) since the model does not contain a constant.\n",
       "[2] Standard Errors assume that the covariance matrix of the errors is correctly specified.\n",
       "\"\"\""
      ]
     },
     "execution_count": 353,
     "metadata": {},
     "output_type": "execute_result"
    }
   ],
   "source": [
    "X_2 = lag2_cvfs.iloc[:,-2:].values.reshape(-1,2)\n",
    "Y_2 = lag2_cvfs.iloc[:,-3].values.reshape(-1,1)\n",
    "\n",
    "reg_2 = sm.OLS(Y_2, X_2).fit()\n",
    "reg_2.summary()"
   ]
  },
  {
   "cell_type": "code",
   "execution_count": 354,
   "metadata": {},
   "outputs": [
    {
     "data": {
      "text/html": [
       "<table class=\"simpletable\">\n",
       "<caption>OLS Regression Results</caption>\n",
       "<tr>\n",
       "  <th>Dep. Variable:</th>            <td>y</td>        <th>  R-squared (uncentered):</th>      <td>   0.775</td> \n",
       "</tr>\n",
       "<tr>\n",
       "  <th>Model:</th>                   <td>OLS</td>       <th>  Adj. R-squared (uncentered):</th> <td>   0.775</td> \n",
       "</tr>\n",
       "<tr>\n",
       "  <th>Method:</th>             <td>Least Squares</td>  <th>  F-statistic:       </th>          <td>1.552e+04</td>\n",
       "</tr>\n",
       "<tr>\n",
       "  <th>Date:</th>             <td>Tue, 20 Jul 2021</td> <th>  Prob (F-statistic):</th>           <td>  0.00</td>  \n",
       "</tr>\n",
       "<tr>\n",
       "  <th>Time:</th>                 <td>17:18:10</td>     <th>  Log-Likelihood:    </th>          <td> -52088.</td> \n",
       "</tr>\n",
       "<tr>\n",
       "  <th>No. Observations:</th>      <td> 13530</td>      <th>  AIC:               </th>          <td>1.042e+05</td>\n",
       "</tr>\n",
       "<tr>\n",
       "  <th>Df Residuals:</th>          <td> 13527</td>      <th>  BIC:               </th>          <td>1.042e+05</td>\n",
       "</tr>\n",
       "<tr>\n",
       "  <th>Df Model:</th>              <td>     3</td>      <th>                     </th>              <td> </td>    \n",
       "</tr>\n",
       "<tr>\n",
       "  <th>Covariance Type:</th>      <td>nonrobust</td>    <th>                     </th>              <td> </td>    \n",
       "</tr>\n",
       "</table>\n",
       "<table class=\"simpletable\">\n",
       "<tr>\n",
       "   <td></td>     <th>coef</th>     <th>std err</th>      <th>t</th>      <th>P>|t|</th>  <th>[0.025</th>    <th>0.975]</th>  \n",
       "</tr>\n",
       "<tr>\n",
       "  <th>x1</th> <td>    0.0085</td> <td>    0.000</td> <td>   48.716</td> <td> 0.000</td> <td>    0.008</td> <td>    0.009</td>\n",
       "</tr>\n",
       "<tr>\n",
       "  <th>x2</th> <td>    0.0010</td> <td>    0.000</td> <td>    4.261</td> <td> 0.000</td> <td>    0.001</td> <td>    0.001</td>\n",
       "</tr>\n",
       "<tr>\n",
       "  <th>x3</th> <td>    0.0006</td> <td>    0.000</td> <td>    3.623</td> <td> 0.000</td> <td>    0.000</td> <td>    0.001</td>\n",
       "</tr>\n",
       "</table>\n",
       "<table class=\"simpletable\">\n",
       "<tr>\n",
       "  <th>Omnibus:</th>       <td>4018.980</td> <th>  Durbin-Watson:     </th>  <td>   1.712</td> \n",
       "</tr>\n",
       "<tr>\n",
       "  <th>Prob(Omnibus):</th>  <td> 0.000</td>  <th>  Jarque-Bera (JB):  </th> <td>119370.089</td>\n",
       "</tr>\n",
       "<tr>\n",
       "  <th>Skew:</th>           <td> 0.813</td>  <th>  Prob(JB):          </th>  <td>    0.00</td> \n",
       "</tr>\n",
       "<tr>\n",
       "  <th>Kurtosis:</th>       <td>17.460</td>  <th>  Cond. No.          </th>  <td>    10.3</td> \n",
       "</tr>\n",
       "</table><br/><br/>Notes:<br/>[1] R² is computed without centering (uncentered) since the model does not contain a constant.<br/>[2] Standard Errors assume that the covariance matrix of the errors is correctly specified."
      ],
      "text/plain": [
       "<class 'statsmodels.iolib.summary.Summary'>\n",
       "\"\"\"\n",
       "                                 OLS Regression Results                                \n",
       "=======================================================================================\n",
       "Dep. Variable:                      y   R-squared (uncentered):                   0.775\n",
       "Model:                            OLS   Adj. R-squared (uncentered):              0.775\n",
       "Method:                 Least Squares   F-statistic:                          1.552e+04\n",
       "Date:                Tue, 20 Jul 2021   Prob (F-statistic):                        0.00\n",
       "Time:                        17:18:10   Log-Likelihood:                         -52088.\n",
       "No. Observations:               13530   AIC:                                  1.042e+05\n",
       "Df Residuals:                   13527   BIC:                                  1.042e+05\n",
       "Df Model:                           3                                                  \n",
       "Covariance Type:            nonrobust                                                  \n",
       "==============================================================================\n",
       "                 coef    std err          t      P>|t|      [0.025      0.975]\n",
       "------------------------------------------------------------------------------\n",
       "x1             0.0085      0.000     48.716      0.000       0.008       0.009\n",
       "x2             0.0010      0.000      4.261      0.000       0.001       0.001\n",
       "x3             0.0006      0.000      3.623      0.000       0.000       0.001\n",
       "==============================================================================\n",
       "Omnibus:                     4018.980   Durbin-Watson:                   1.712\n",
       "Prob(Omnibus):                  0.000   Jarque-Bera (JB):           119370.089\n",
       "Skew:                           0.813   Prob(JB):                         0.00\n",
       "Kurtosis:                      17.460   Cond. No.                         10.3\n",
       "==============================================================================\n",
       "\n",
       "Notes:\n",
       "[1] R² is computed without centering (uncentered) since the model does not contain a constant.\n",
       "[2] Standard Errors assume that the covariance matrix of the errors is correctly specified.\n",
       "\"\"\""
      ]
     },
     "execution_count": 354,
     "metadata": {},
     "output_type": "execute_result"
    }
   ],
   "source": [
    "X_3 = lag3_cvfs.iloc[:,-3:].values.reshape(-1,3)\n",
    "Y_3 = lag3_cvfs.iloc[:,-4].values.reshape(-1,1)\n",
    "\n",
    "reg_3 = sm.OLS(Y_3, X_3).fit()\n",
    "reg_3.summary()"
   ]
  },
  {
   "cell_type": "code",
   "execution_count": 281,
   "metadata": {},
   "outputs": [
    {
     "data": {
      "text/html": [
       "<table class=\"simpletable\">\n",
       "<caption>OLS Regression Results</caption>\n",
       "<tr>\n",
       "  <th>Dep. Variable:</th>            <td>y</td>        <th>  R-squared (uncentered):</th>      <td>   0.772</td> \n",
       "</tr>\n",
       "<tr>\n",
       "  <th>Model:</th>                   <td>OLS</td>       <th>  Adj. R-squared (uncentered):</th> <td>   0.772</td> \n",
       "</tr>\n",
       "<tr>\n",
       "  <th>Method:</th>             <td>Least Squares</td>  <th>  F-statistic:       </th>          <td>   9556.</td> \n",
       "</tr>\n",
       "<tr>\n",
       "  <th>Date:</th>             <td>Tue, 20 Jul 2021</td> <th>  Prob (F-statistic):</th>           <td>  0.00</td>  \n",
       "</tr>\n",
       "<tr>\n",
       "  <th>Time:</th>                 <td>16:47:50</td>     <th>  Log-Likelihood:    </th>          <td> -43267.</td> \n",
       "</tr>\n",
       "<tr>\n",
       "  <th>No. Observations:</th>      <td> 11275</td>      <th>  AIC:               </th>          <td>8.654e+04</td>\n",
       "</tr>\n",
       "<tr>\n",
       "  <th>Df Residuals:</th>          <td> 11271</td>      <th>  BIC:               </th>          <td>8.657e+04</td>\n",
       "</tr>\n",
       "<tr>\n",
       "  <th>Df Model:</th>              <td>     4</td>      <th>                     </th>              <td> </td>    \n",
       "</tr>\n",
       "<tr>\n",
       "  <th>Covariance Type:</th>      <td>nonrobust</td>    <th>                     </th>              <td> </td>    \n",
       "</tr>\n",
       "</table>\n",
       "<table class=\"simpletable\">\n",
       "<tr>\n",
       "   <td></td>     <th>coef</th>     <th>std err</th>      <th>t</th>      <th>P>|t|</th>  <th>[0.025</th>    <th>0.975]</th>  \n",
       "</tr>\n",
       "<tr>\n",
       "  <th>x1</th> <td>    0.0084</td> <td>    0.000</td> <td>   46.016</td> <td> 0.000</td> <td>    0.008</td> <td>    0.009</td>\n",
       "</tr>\n",
       "<tr>\n",
       "  <th>x2</th> <td>    0.0009</td> <td>    0.000</td> <td>    3.539</td> <td> 0.000</td> <td>    0.000</td> <td>    0.001</td>\n",
       "</tr>\n",
       "<tr>\n",
       "  <th>x3</th> <td>   -0.0005</td> <td>    0.000</td> <td>   -2.047</td> <td> 0.041</td> <td>   -0.001</td> <td>-2.15e-05</td>\n",
       "</tr>\n",
       "<tr>\n",
       "  <th>x4</th> <td>    0.0012</td> <td>    0.000</td> <td>    6.911</td> <td> 0.000</td> <td>    0.001</td> <td>    0.002</td>\n",
       "</tr>\n",
       "</table>\n",
       "<table class=\"simpletable\">\n",
       "<tr>\n",
       "  <th>Omnibus:</th>       <td>3322.537</td> <th>  Durbin-Watson:     </th> <td>   1.693</td> \n",
       "</tr>\n",
       "<tr>\n",
       "  <th>Prob(Omnibus):</th>  <td> 0.000</td>  <th>  Jarque-Bera (JB):  </th> <td>70739.174</td>\n",
       "</tr>\n",
       "<tr>\n",
       "  <th>Skew:</th>           <td> 0.900</td>  <th>  Prob(JB):          </th> <td>    0.00</td> \n",
       "</tr>\n",
       "<tr>\n",
       "  <th>Kurtosis:</th>       <td>15.138</td>  <th>  Cond. No.          </th> <td>    12.2</td> \n",
       "</tr>\n",
       "</table><br/><br/>Notes:<br/>[1] R² is computed without centering (uncentered) since the model does not contain a constant.<br/>[2] Standard Errors assume that the covariance matrix of the errors is correctly specified."
      ],
      "text/plain": [
       "<class 'statsmodels.iolib.summary.Summary'>\n",
       "\"\"\"\n",
       "                                 OLS Regression Results                                \n",
       "=======================================================================================\n",
       "Dep. Variable:                      y   R-squared (uncentered):                   0.772\n",
       "Model:                            OLS   Adj. R-squared (uncentered):              0.772\n",
       "Method:                 Least Squares   F-statistic:                              9556.\n",
       "Date:                Tue, 20 Jul 2021   Prob (F-statistic):                        0.00\n",
       "Time:                        16:47:50   Log-Likelihood:                         -43267.\n",
       "No. Observations:               11275   AIC:                                  8.654e+04\n",
       "Df Residuals:                   11271   BIC:                                  8.657e+04\n",
       "Df Model:                           4                                                  \n",
       "Covariance Type:            nonrobust                                                  \n",
       "==============================================================================\n",
       "                 coef    std err          t      P>|t|      [0.025      0.975]\n",
       "------------------------------------------------------------------------------\n",
       "x1             0.0084      0.000     46.016      0.000       0.008       0.009\n",
       "x2             0.0009      0.000      3.539      0.000       0.000       0.001\n",
       "x3            -0.0005      0.000     -2.047      0.041      -0.001   -2.15e-05\n",
       "x4             0.0012      0.000      6.911      0.000       0.001       0.002\n",
       "==============================================================================\n",
       "Omnibus:                     3322.537   Durbin-Watson:                   1.693\n",
       "Prob(Omnibus):                  0.000   Jarque-Bera (JB):            70739.174\n",
       "Skew:                           0.900   Prob(JB):                         0.00\n",
       "Kurtosis:                      15.138   Cond. No.                         12.2\n",
       "==============================================================================\n",
       "\n",
       "Notes:\n",
       "[1] R² is computed without centering (uncentered) since the model does not contain a constant.\n",
       "[2] Standard Errors assume that the covariance matrix of the errors is correctly specified.\n",
       "\"\"\""
      ]
     },
     "execution_count": 281,
     "metadata": {},
     "output_type": "execute_result"
    }
   ],
   "source": [
    "X_4 = lag4_cvfs.iloc[:,-4:].values.reshape(-1,4)\n",
    "Y_4 = lag4_cvfs.iloc[:,-5].values.reshape(-1,1)\n",
    "\n",
    "reg_4 = sm.OLS(Y_4, X_4).fit()\n",
    "reg_4.summary()"
   ]
  },
  {
   "cell_type": "code",
   "execution_count": 282,
   "metadata": {},
   "outputs": [
    {
     "data": {
      "text/html": [
       "<table class=\"simpletable\">\n",
       "<caption>OLS Regression Results</caption>\n",
       "<tr>\n",
       "  <th>Dep. Variable:</th>            <td>y</td>        <th>  R-squared (uncentered):</th>      <td>   0.767</td> \n",
       "</tr>\n",
       "<tr>\n",
       "  <th>Model:</th>                   <td>OLS</td>       <th>  Adj. R-squared (uncentered):</th> <td>   0.767</td> \n",
       "</tr>\n",
       "<tr>\n",
       "  <th>Method:</th>             <td>Least Squares</td>  <th>  F-statistic:       </th>          <td>   5941.</td> \n",
       "</tr>\n",
       "<tr>\n",
       "  <th>Date:</th>             <td>Tue, 20 Jul 2021</td> <th>  Prob (F-statistic):</th>           <td>  0.00</td>  \n",
       "</tr>\n",
       "<tr>\n",
       "  <th>Time:</th>                 <td>16:48:17</td>     <th>  Log-Likelihood:    </th>          <td> -34554.</td> \n",
       "</tr>\n",
       "<tr>\n",
       "  <th>No. Observations:</th>      <td>  9020</td>      <th>  AIC:               </th>          <td>6.912e+04</td>\n",
       "</tr>\n",
       "<tr>\n",
       "  <th>Df Residuals:</th>          <td>  9015</td>      <th>  BIC:               </th>          <td>6.915e+04</td>\n",
       "</tr>\n",
       "<tr>\n",
       "  <th>Df Model:</th>              <td>     5</td>      <th>                     </th>              <td> </td>    \n",
       "</tr>\n",
       "<tr>\n",
       "  <th>Covariance Type:</th>      <td>nonrobust</td>    <th>                     </th>              <td> </td>    \n",
       "</tr>\n",
       "</table>\n",
       "<table class=\"simpletable\">\n",
       "<tr>\n",
       "   <td></td>     <th>coef</th>     <th>std err</th>      <th>t</th>      <th>P>|t|</th>  <th>[0.025</th>    <th>0.975]</th>  \n",
       "</tr>\n",
       "<tr>\n",
       "  <th>x1</th> <td>    0.0081</td> <td>    0.000</td> <td>   39.623</td> <td> 0.000</td> <td>    0.008</td> <td>    0.009</td>\n",
       "</tr>\n",
       "<tr>\n",
       "  <th>x2</th> <td>    0.0010</td> <td>    0.000</td> <td>    3.730</td> <td> 0.000</td> <td>    0.000</td> <td>    0.002</td>\n",
       "</tr>\n",
       "<tr>\n",
       "  <th>x3</th> <td>   -0.0005</td> <td>    0.000</td> <td>   -1.951</td> <td> 0.051</td> <td>   -0.001</td> <td> 2.48e-06</td>\n",
       "</tr>\n",
       "<tr>\n",
       "  <th>x4</th> <td>    0.0015</td> <td>    0.000</td> <td>    5.341</td> <td> 0.000</td> <td>    0.001</td> <td>    0.002</td>\n",
       "</tr>\n",
       "<tr>\n",
       "  <th>x5</th> <td>   -0.0002</td> <td>    0.000</td> <td>   -0.963</td> <td> 0.336</td> <td>   -0.001</td> <td>    0.000</td>\n",
       "</tr>\n",
       "</table>\n",
       "<table class=\"simpletable\">\n",
       "<tr>\n",
       "  <th>Omnibus:</th>       <td>2329.796</td> <th>  Durbin-Watson:     </th> <td>   1.672</td> \n",
       "</tr>\n",
       "<tr>\n",
       "  <th>Prob(Omnibus):</th>  <td> 0.000</td>  <th>  Jarque-Bera (JB):  </th> <td>43549.085</td>\n",
       "</tr>\n",
       "<tr>\n",
       "  <th>Skew:</th>           <td> 0.761</td>  <th>  Prob(JB):          </th> <td>    0.00</td> \n",
       "</tr>\n",
       "<tr>\n",
       "  <th>Kurtosis:</th>       <td>13.656</td>  <th>  Cond. No.          </th> <td>    13.7</td> \n",
       "</tr>\n",
       "</table><br/><br/>Notes:<br/>[1] R² is computed without centering (uncentered) since the model does not contain a constant.<br/>[2] Standard Errors assume that the covariance matrix of the errors is correctly specified."
      ],
      "text/plain": [
       "<class 'statsmodels.iolib.summary.Summary'>\n",
       "\"\"\"\n",
       "                                 OLS Regression Results                                \n",
       "=======================================================================================\n",
       "Dep. Variable:                      y   R-squared (uncentered):                   0.767\n",
       "Model:                            OLS   Adj. R-squared (uncentered):              0.767\n",
       "Method:                 Least Squares   F-statistic:                              5941.\n",
       "Date:                Tue, 20 Jul 2021   Prob (F-statistic):                        0.00\n",
       "Time:                        16:48:17   Log-Likelihood:                         -34554.\n",
       "No. Observations:                9020   AIC:                                  6.912e+04\n",
       "Df Residuals:                    9015   BIC:                                  6.915e+04\n",
       "Df Model:                           5                                                  \n",
       "Covariance Type:            nonrobust                                                  \n",
       "==============================================================================\n",
       "                 coef    std err          t      P>|t|      [0.025      0.975]\n",
       "------------------------------------------------------------------------------\n",
       "x1             0.0081      0.000     39.623      0.000       0.008       0.009\n",
       "x2             0.0010      0.000      3.730      0.000       0.000       0.002\n",
       "x3            -0.0005      0.000     -1.951      0.051      -0.001    2.48e-06\n",
       "x4             0.0015      0.000      5.341      0.000       0.001       0.002\n",
       "x5            -0.0002      0.000     -0.963      0.336      -0.001       0.000\n",
       "==============================================================================\n",
       "Omnibus:                     2329.796   Durbin-Watson:                   1.672\n",
       "Prob(Omnibus):                  0.000   Jarque-Bera (JB):            43549.085\n",
       "Skew:                           0.761   Prob(JB):                         0.00\n",
       "Kurtosis:                      13.656   Cond. No.                         13.7\n",
       "==============================================================================\n",
       "\n",
       "Notes:\n",
       "[1] R² is computed without centering (uncentered) since the model does not contain a constant.\n",
       "[2] Standard Errors assume that the covariance matrix of the errors is correctly specified.\n",
       "\"\"\""
      ]
     },
     "execution_count": 282,
     "metadata": {},
     "output_type": "execute_result"
    }
   ],
   "source": [
    "X_5 = lag5_cvfs.iloc[:,-5:].values.reshape(-1,5)\n",
    "Y_5 = lag5_cvfs.iloc[:,-6].values.reshape(-1,1)\n",
    "\n",
    "reg_5 = sm.OLS(Y_5, X_5).fit()\n",
    "reg_5.summary()"
   ]
  },
  {
   "cell_type": "code",
   "execution_count": 343,
   "metadata": {
    "collapsed": true
   },
   "outputs": [],
   "source": [
    "lm = linear_model.LinearRegression()\n",
    "model1 = lm.fit(X_1,Y_1)"
   ]
  },
  {
   "cell_type": "code",
   "execution_count": 344,
   "metadata": {
    "collapsed": true
   },
   "outputs": [],
   "source": [
    "pred1 = lm.predict(X_1)"
   ]
  },
  {
   "cell_type": "code",
   "execution_count": 346,
   "metadata": {},
   "outputs": [
    {
     "data": {
      "text/plain": [
       "<matplotlib.collections.PathCollection at 0x29118e71850>"
      ]
     },
     "execution_count": 346,
     "metadata": {},
     "output_type": "execute_result"
    },
    {
     "data": {
      "image/png": "[encoded data removed]",
      "text/plain": [
       "<Figure size 432x288 with 1 Axes>"
      ]
     },
     "metadata": {
      "needs_background": "light"
     },
     "output_type": "display_data"
    }
   ],
   "source": [
    "fig, ax = plt.subplots()\n",
    "ax.scatter(Y_1,pred1)"
   ]
  },
  {
   "cell_type": "code",
   "execution_count": null,
   "metadata": {
    "collapsed": true
   },
   "outputs": [],
   "source": []
  }
 ],
 "metadata": {
  "kernelspec": {
   "display_name": "Python 3",
   "language": "python",
   "name": "python3"
  },
  "language_info": {
   "codemirror_mode": {
    "name": "ipython",
    "version": 3
   },
   "file_extension": ".py",
   "mimetype": "text/x-python",
   "name": "python",
   "nbconvert_exporter": "python",
   "pygments_lexer": "ipython3",
   "version": "3.6.3"
  }
 },
 "nbformat": 4,
 "nbformat_minor": 5
}
